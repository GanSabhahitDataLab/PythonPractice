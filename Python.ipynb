{
 "cells": [
  {
   "cell_type": "code",
   "execution_count": 10,
   "metadata": {},
   "outputs": [
    {
     "name": "stdout",
     "output_type": "stream",
     "text": [
      "Print only the words that start with s in this sentence\n",
      "start\n",
      "s\n",
      "sentence\n"
     ]
    }
   ],
   "source": [
    "# create a Statement that will print out words that start with 's':\n",
    "st = 'Print only the words that start with s in this sentence'\n",
    "print(st)\n",
    "for elm in st.split() :\n",
    "    if elm[0] == 's':\n",
    "        print(elm)"
   ]
  },
  {
   "cell_type": "code",
   "execution_count": 13,
   "metadata": {},
   "outputs": [
    {
     "name": "stdout",
     "output_type": "stream",
     "text": [
      "0\n",
      "2\n",
      "4\n",
      "6\n",
      "8\n"
     ]
    }
   ],
   "source": [
    "# print all the even numbers from 0 to 10\n",
    "for num in range(0,10):\n",
    "   if num%2 == 0:\n",
    "        print(num)\n",
    "        "
   ]
  },
  {
   "cell_type": "code",
   "execution_count": 20,
   "metadata": {},
   "outputs": [
    {
     "name": "stdout",
     "output_type": "stream",
     "text": [
      "3\n",
      "6\n",
      "9\n",
      "12\n",
      "15\n",
      "18\n",
      "21\n",
      "24\n",
      "27\n",
      "30\n",
      "33\n",
      "36\n",
      "39\n",
      "42\n",
      "45\n",
      "48\n"
     ]
    }
   ],
   "source": [
    "#create a list of all numbers between 1 and 50 that are divisible by 3\n",
    "myDiv3List = []\n",
    "for num in range(1,50):\n",
    "    if num%3 == 0:\n",
    "        myDiv3List.append(num)\n",
    "        print(num)    "
   ]
  },
  {
   "cell_type": "code",
   "execution_count": 25,
   "metadata": {},
   "outputs": [
    {
     "name": "stdout",
     "output_type": "stream",
     "text": [
      "Word Print has Odd length\n",
      "Word every has Odd length\n",
      "Word word has even length\n",
      "Word in has even length\n",
      "Word this has even length\n",
      "Word sentence has even length\n",
      "Word that has even length\n",
      "Word has has Odd length\n",
      "Word an has even length\n",
      "Word even has even length\n",
      "Word number has even length\n",
      "Word of has even length\n",
      "Word letters has Odd length\n"
     ]
    }
   ],
   "source": [
    "#Go through the string below and if the length of a word is even print \"even!\"\n",
    "st = 'Print every word in this sentence that has an even number of letters'\n",
    "for elem in st.split():\n",
    "    if (len(elem) % 2 == 0):\n",
    "        print(\"Word {0} has even length\".format(elem))\n",
    "    else:\n",
    "        print(\"Word {0} has Odd length\".format(elem))"
   ]
  },
  {
   "cell_type": "code",
   "execution_count": 30,
   "metadata": {},
   "outputs": [
    {
     "name": "stdout",
     "output_type": "stream",
     "text": [
      "Element 0 belongs to FizzBuzz\n",
      "Element 3 belongs to Fizz\n",
      "Element 5 belongs to Buzz\n",
      "Element 6 belongs to Fizz\n",
      "Element 9 belongs to Fizz\n",
      "Element 10 belongs to Buzz\n",
      "Element 12 belongs to Fizz\n",
      "Element 15 belongs to FizzBuzz\n",
      "Element 18 belongs to Fizz\n",
      "Element 20 belongs to Buzz\n",
      "Element 21 belongs to Fizz\n",
      "Element 24 belongs to Fizz\n",
      "Element 25 belongs to Buzz\n",
      "Element 27 belongs to Fizz\n",
      "Element 30 belongs to FizzBuzz\n",
      "Element 33 belongs to Fizz\n",
      "Element 35 belongs to Buzz\n",
      "Element 36 belongs to Fizz\n",
      "Element 39 belongs to Fizz\n",
      "Element 40 belongs to Buzz\n",
      "Element 42 belongs to Fizz\n",
      "Element 45 belongs to FizzBuzz\n",
      "Element 48 belongs to Fizz\n",
      "Element 50 belongs to Buzz\n",
      "Element 51 belongs to Fizz\n",
      "Element 54 belongs to Fizz\n",
      "Element 55 belongs to Buzz\n",
      "Element 57 belongs to Fizz\n",
      "Element 60 belongs to FizzBuzz\n",
      "Element 63 belongs to Fizz\n",
      "Element 65 belongs to Buzz\n",
      "Element 66 belongs to Fizz\n",
      "Element 69 belongs to Fizz\n",
      "Element 70 belongs to Buzz\n",
      "Element 72 belongs to Fizz\n",
      "Element 75 belongs to FizzBuzz\n",
      "Element 78 belongs to Fizz\n",
      "Element 80 belongs to Buzz\n",
      "Element 81 belongs to Fizz\n",
      "Element 84 belongs to Fizz\n",
      "Element 85 belongs to Buzz\n",
      "Element 87 belongs to Fizz\n",
      "Element 90 belongs to FizzBuzz\n",
      "Element 93 belongs to Fizz\n",
      "Element 95 belongs to Buzz\n",
      "Element 96 belongs to Fizz\n",
      "Element 99 belongs to Fizz\n"
     ]
    }
   ],
   "source": [
    "# Write a program that prints the integers from 1 to 100. \n",
    "# But for multiples of three print \"Fizz\" instead of the number, and for the multiples of five print \"Buzz\". \n",
    "# For numbers which are multiples of both three and five print \"FizzBuzz\".\n",
    "\n",
    "for elem in range(1,100):\n",
    "    if elem % 5 == 0 and elem % 3 == 0:\n",
    "        print(\"Element {0} belongs to FizzBuzz\".format(elem))\n",
    "    elif elem % 3 == 0:\n",
    "          print(\"Element {0} belongs to Fizz\".format(elem))\n",
    "    elif elem % 5 == 0:\n",
    "          print(\"Element {0} belongs to Buzz\".format(elem))\n",
    "            "
   ]
  },
  {
   "cell_type": "code",
   "execution_count": 36,
   "metadata": {},
   "outputs": [
    {
     "name": "stdout",
     "output_type": "stream",
     "text": [
      "13\n"
     ]
    }
   ],
   "source": [
    "#Create a list of the first letters of every word in the string below\n",
    "st = 'Create a list of the first letters of every word in this string'\n",
    "firstLetterList = []\n",
    "for elem in st.split():\n",
    "    firstLetterList.append(elem[0])\n",
    "    \n",
    "print(len(firstLetterList))\n",
    "    "
   ]
  },
  {
   "cell_type": "code",
   "execution_count": null,
   "metadata": {},
   "outputs": [],
   "source": []
  }
 ],
 "metadata": {
  "kernelspec": {
   "display_name": "Python 3",
   "language": "python",
   "name": "python3"
  },
  "language_info": {
   "codemirror_mode": {
    "name": "ipython",
    "version": 3
   },
   "file_extension": ".py",
   "mimetype": "text/x-python",
   "name": "python",
   "nbconvert_exporter": "python",
   "pygments_lexer": "ipython3",
   "version": "3.7.3"
  }
 },
 "nbformat": 4,
 "nbformat_minor": 2
}
